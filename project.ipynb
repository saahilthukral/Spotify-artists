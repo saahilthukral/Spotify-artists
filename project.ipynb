{
 "cells": [
  {
   "cell_type": "code",
   "execution_count": 3,
   "id": "db894230-452e-429e-a4e1-015a9509ec8b",
   "metadata": {},
   "outputs": [
    {
     "name": "stdout",
     "output_type": "stream",
     "text": [
      "Requirement already satisfied: spotipy in ./anaconda3/lib/python3.10/site-packages (2.23.0)\n",
      "Requirement already satisfied: redis>=3.5.3 in ./anaconda3/lib/python3.10/site-packages (from spotipy) (5.0.1)\n",
      "Requirement already satisfied: requests>=2.25.0 in ./anaconda3/lib/python3.10/site-packages (from spotipy) (2.31.0)\n",
      "Requirement already satisfied: six>=1.15.0 in ./.local/lib/python3.10/site-packages (from spotipy) (1.16.0)\n",
      "Requirement already satisfied: urllib3>=1.26.0 in ./anaconda3/lib/python3.10/site-packages (from spotipy) (1.26.18)\n",
      "Requirement already satisfied: async-timeout>=4.0.2 in ./anaconda3/lib/python3.10/site-packages (from redis>=3.5.3->spotipy) (4.0.3)\n",
      "Requirement already satisfied: charset-normalizer<4,>=2 in ./anaconda3/lib/python3.10/site-packages (from requests>=2.25.0->spotipy) (2.0.4)\n",
      "Requirement already satisfied: idna<4,>=2.5 in ./anaconda3/lib/python3.10/site-packages (from requests>=2.25.0->spotipy) (3.4)\n",
      "Requirement already satisfied: certifi>=2017.4.17 in ./anaconda3/lib/python3.10/site-packages (from requests>=2.25.0->spotipy) (2023.11.17)\n"
     ]
    }
   ],
   "source": [
    "!pip install spotipy"
   ]
  },
  {
   "cell_type": "code",
   "execution_count": 3,
   "id": "52730440-9995-49fa-87c1-3f6a885a3ee3",
   "metadata": {},
   "outputs": [],
   "source": [
    "import spotipy\n",
    "from spotipy.oauth2 import SpotifyClientCredentials\n",
    "\n",
    "CLIENT_ID = '403092581b1d4a4e883aef92af6096be'\n",
    "CLIENT_SECRET = '80d0e56b70d04478832cff0b15e24888'\n",
    "client_credentials_manager = SpotifyClientCredentials(client_id=CLIENT_ID, client_secret=CLIENT_SECRET)\n",
    "sp = spotipy.Spotify(client_credentials_manager=client_credentials_manager)"
   ]
  },
  {
   "cell_type": "code",
   "execution_count": 9,
   "id": "b9c7324b-bf8a-407d-b516-1aa9db564e71",
   "metadata": {},
   "outputs": [],
   "source": [
    "artist = []\n",
    "track = []\n",
    "track_popularity = []\n",
    "artist_id = []\n",
    "track_id = []\n",
    "\n",
    "\n",
    "for i in range(0,10):\n",
    "    track_results = sp.search(q='year:2023', type='track', limit=50,offset=i)\n",
    "    for i, t in enumerate(track_results['tracks']['items']):\n",
    "        artist.append(t['artists'][0]['name'])\n",
    "        artist_id.append(t['artists'][0]['id'])\n",
    "        track.append(t['name'])\n",
    "        track_id.append(t['id'])\n",
    "        track_popularity.append(t['popularity'])"
   ]
  },
  {
   "cell_type": "code",
   "execution_count": 10,
   "id": "8f4fbb1d-a5a2-4668-bb2d-e5bc0fd4ca58",
   "metadata": {},
   "outputs": [
    {
     "name": "stdout",
     "output_type": "stream",
     "text": [
      "['sxhinophonk', 'Lofi focus beats', 'Susmirata Dawalkar', 'Joachim Baumerder', 'Furry Loser', 'Đặng Thế Chí', '戴谦', 'SkillinJah', 'HD Rain & Water', 'DisKatch', 'Mela Rose', 'Cafe lounge', 'Fredokiss', 'Binaural Reality', 'Don Hinderliter', 'LilK', 'Quinn Ayers', 'Witherfall', 'CHINCONA', 'Stefan Zintel', 'New Age', 'Lalya Pars', 'Die drei !!!', 'omgkirby', 'LoFi Robot', 'Old World Warbler', 'Flavour', 'PhonkBaby', 'YUNIQUE.', 'Sean Borg', 'Carl Karlsson', 'Edvard Book-Bratbak', 'Noah Pino Palo', '湯捷', 'Pawan Singh', 'Karambolage', 'McArthur', 'Antonio Vivaldi', 'DJ Pew Original', 'LUKEBIKE', 'Sound Of SuperCherries', 'Friox', 'Ivan Mercy', 'DUTY PAID', 'Universal Balance', 'Mellowmixx', 'comforter2', 'White Tauro', 'Las Mejores Canciones de Navidad 2022', 'Kenny Salvadi Productions', 'Lofi focus beats', 'Susmirata Dawalkar', 'Joachim Baumerder', 'Furry Loser', 'Đặng Thế Chí', '戴谦', 'SkillinJah', 'HD Rain & Water', 'DisKatch', 'Mela Rose', 'Cafe lounge', 'Fredokiss', 'Binaural Reality', 'Don Hinderliter', 'LilK', 'Quinn Ayers', 'Witherfall', 'CHINCONA', 'Stefan Zintel', 'New Age', 'Lalya Pars', 'Die drei !!!', 'omgkirby', 'LoFi Robot', 'Old World Warbler', 'Flavour', 'PhonkBaby', 'YUNIQUE.', 'Sean Borg', 'Carl Karlsson', 'Edvard Book-Bratbak', 'Noah Pino Palo', '湯捷', 'Pawan Singh', 'Karambolage', 'McArthur', 'Antonio Vivaldi', 'DJ Pew Original', 'LUKEBIKE', 'Sound Of SuperCherries', 'Friox', 'Ivan Mercy', 'DUTY PAID', 'Universal Balance', 'Mellowmixx', 'comforter2', 'White Tauro', 'Las Mejores Canciones de Navidad 2022', 'Kenny Salvadi Productions', 'Jon Ososki', 'Susmirata Dawalkar', 'Joachim Baumerder', 'Furry Loser', 'Đặng Thế Chí', '戴谦', 'SkillinJah', 'HD Rain & Water', 'DisKatch', 'Mela Rose', 'Cafe lounge', 'Fredokiss', 'Binaural Reality', 'Don Hinderliter', 'LilK', 'Quinn Ayers', 'Witherfall', 'CHINCONA', 'Stefan Zintel', 'New Age', 'Lalya Pars', 'Die drei !!!', 'omgkirby', 'LoFi Robot', 'Old World Warbler', 'Flavour', 'PhonkBaby', 'YUNIQUE.', 'Sean Borg', 'Carl Karlsson', 'Edvard Book-Bratbak', 'Noah Pino Palo', '湯捷', 'Pawan Singh', 'Karambolage', 'McArthur', 'Antonio Vivaldi', 'DJ Pew Original', 'LUKEBIKE', 'Sound Of SuperCherries', 'Friox', 'Ivan Mercy', 'DUTY PAID', 'Universal Balance', 'Mellowmixx', 'comforter2', 'White Tauro', 'Las Mejores Canciones de Navidad 2022', 'Kenny Salvadi Productions', 'Jon Ososki', 'Sutratma', 'Joachim Baumerder', 'Furry Loser', 'Đặng Thế Chí', '戴谦', 'SkillinJah', 'HD Rain & Water', 'DisKatch', 'Mela Rose', 'Cafe lounge', 'Fredokiss', 'Binaural Reality', 'Don Hinderliter', 'LilK', 'Quinn Ayers', 'Witherfall', 'CHINCONA', 'Stefan Zintel', 'New Age', 'Lalya Pars', 'Die drei !!!', 'omgkirby', 'LoFi Robot', 'Old World Warbler', 'Flavour', 'PhonkBaby', 'YUNIQUE.', 'Sean Borg', 'Carl Karlsson', 'Edvard Book-Bratbak', 'Noah Pino Palo', '湯捷', 'Pawan Singh', 'Karambolage', 'McArthur', 'Antonio Vivaldi', 'DJ Pew Original', 'LUKEBIKE', 'Sound Of SuperCherries', 'Friox', 'Ivan Mercy', 'DUTY PAID', 'Universal Balance', 'Mellowmixx', 'comforter2', 'White Tauro', 'Las Mejores Canciones de Navidad 2022', 'Kenny Salvadi Productions', 'Jon Ososki', 'Sutratma', 'Julez', 'Furry Loser', 'Đặng Thế Chí', '戴谦', 'SkillinJah', 'HD Rain & Water', 'DisKatch', 'Mela Rose', 'Cafe lounge', 'Fredokiss', 'Binaural Reality', 'Don Hinderliter', 'LilK', 'Quinn Ayers', 'Witherfall', 'CHINCONA', 'Stefan Zintel', 'New Age', 'Lalya Pars', 'Die drei !!!', 'omgkirby', 'LoFi Robot', 'Old World Warbler', 'Flavour', 'PhonkBaby', 'YUNIQUE.', 'Sean Borg', 'Carl Karlsson', 'Edvard Book-Bratbak', 'Noah Pino Palo', '湯捷', 'Pawan Singh', 'Karambolage', 'McArthur', 'Antonio Vivaldi', 'DJ Pew Original', 'LUKEBIKE', 'Sound Of SuperCherries', 'Friox', 'Ivan Mercy', 'DUTY PAID', 'Universal Balance', 'Mellowmixx', 'comforter2', 'White Tauro', 'Las Mejores Canciones de Navidad 2022', 'Kenny Salvadi Productions', 'Jon Ososki', 'Sutratma', 'Julez', 'Etta James', 'Đặng Thế Chí', '戴谦', 'SkillinJah', 'HD Rain & Water', 'DisKatch', 'Mela Rose', 'Cafe lounge', 'Fredokiss', 'Binaural Reality', 'Don Hinderliter', 'LilK', 'Quinn Ayers', 'Witherfall', 'CHINCONA', 'Stefan Zintel', 'New Age', 'Lalya Pars', 'Die drei !!!', 'omgkirby', 'LoFi Robot', 'Old World Warbler', 'Flavour', 'PhonkBaby', 'YUNIQUE.', 'Sean Borg', 'Carl Karlsson', 'Edvard Book-Bratbak', 'Noah Pino Palo', '湯捷', 'Pawan Singh', 'Karambolage', 'McArthur', 'Antonio Vivaldi', 'DJ Pew Original', 'LUKEBIKE', 'Sound Of SuperCherries', 'Friox', 'Ivan Mercy', 'DUTY PAID', 'Universal Balance', 'Mellowmixx', 'comforter2', 'White Tauro', 'Las Mejores Canciones de Navidad 2022', 'Kenny Salvadi Productions', 'Jon Ososki', 'Sutratma', 'Julez', 'Etta James', 'The Neverland Express + Caleb Johnson', '戴谦', 'SkillinJah', 'HD Rain & Water', 'DisKatch', 'Mela Rose', 'Cafe lounge', 'Fredokiss', 'Binaural Reality', 'Don Hinderliter', 'LilK', 'Quinn Ayers', 'Witherfall', 'CHINCONA', 'Stefan Zintel', 'New Age', 'Lalya Pars', 'Die drei !!!', 'omgkirby', 'LoFi Robot', 'Old World Warbler', 'Flavour', 'PhonkBaby', 'YUNIQUE.', 'Sean Borg', 'Carl Karlsson', 'Edvard Book-Bratbak', 'Noah Pino Palo', '湯捷', 'Pawan Singh', 'Karambolage', 'McArthur', 'Antonio Vivaldi', 'DJ Pew Original', 'LUKEBIKE', 'Sound Of SuperCherries', 'Friox', 'Ivan Mercy', 'DUTY PAID', 'Universal Balance', 'Mellowmixx', 'comforter2', 'White Tauro', 'Las Mejores Canciones de Navidad 2022', 'Kenny Salvadi Productions', 'Jon Ososki', 'Sutratma', 'Julez', 'Etta James', 'The Neverland Express + Caleb Johnson', 'Tim Visual Sonics', 'SkillinJah', 'HD Rain & Water', 'DisKatch', 'Mela Rose', 'Cafe lounge', 'Fredokiss', 'Binaural Reality', 'Don Hinderliter', 'LilK', 'Quinn Ayers', 'Witherfall', 'CHINCONA', 'Stefan Zintel', 'New Age', 'Lalya Pars', 'Die drei !!!', 'omgkirby', 'LoFi Robot', 'Old World Warbler', 'Flavour', 'PhonkBaby', 'YUNIQUE.', 'Sean Borg', 'Carl Karlsson', 'Edvard Book-Bratbak', 'Noah Pino Palo', '湯捷', 'Pawan Singh', 'Karambolage', 'McArthur', 'Antonio Vivaldi', 'DJ Pew Original', 'LUKEBIKE', 'Sound Of SuperCherries', 'Friox', 'Ivan Mercy', 'DUTY PAID', 'Universal Balance', 'Mellowmixx', 'comforter2', 'White Tauro', 'Las Mejores Canciones de Navidad 2022', 'Kenny Salvadi Productions', 'Jon Ososki', 'Sutratma', 'Julez', 'Etta James', 'The Neverland Express + Caleb Johnson', 'Tim Visual Sonics', 'Noitatohtori', 'HD Rain & Water', 'DisKatch', 'Mela Rose', 'Cafe lounge', 'Fredokiss', 'Binaural Reality', 'Don Hinderliter', 'LilK', 'Quinn Ayers', 'Witherfall', 'CHINCONA', 'Stefan Zintel', 'New Age', 'Lalya Pars', 'Die drei !!!', 'omgkirby', 'LoFi Robot', 'Old World Warbler', 'Flavour', 'PhonkBaby', 'YUNIQUE.', 'Sean Borg', 'Carl Karlsson', 'Edvard Book-Bratbak', 'Noah Pino Palo', '湯捷', 'Pawan Singh', 'Karambolage', 'McArthur', 'Antonio Vivaldi', 'DJ Pew Original', 'LUKEBIKE', 'Sound Of SuperCherries', 'Friox', 'Ivan Mercy', 'DUTY PAID', 'Universal Balance', 'Mellowmixx', 'comforter2', 'White Tauro', 'Las Mejores Canciones de Navidad 2022', 'Kenny Salvadi Productions', 'Jon Ososki', 'Sutratma', 'Julez', 'Etta James', 'The Neverland Express + Caleb Johnson', 'Tim Visual Sonics', 'Noitatohtori', 'EGE!', 'DisKatch', 'Mela Rose', 'Cafe lounge', 'Fredokiss', 'Binaural Reality', 'Don Hinderliter', 'LilK', 'Quinn Ayers', 'Witherfall', 'CHINCONA', 'Stefan Zintel', 'New Age', 'Lalya Pars', 'Die drei !!!', 'omgkirby', 'LoFi Robot', 'Old World Warbler', 'Flavour', 'PhonkBaby', 'YUNIQUE.', 'Sean Borg', 'Carl Karlsson', 'Edvard Book-Bratbak', 'Noah Pino Palo', '湯捷', 'Pawan Singh', 'Karambolage', 'McArthur', 'Antonio Vivaldi', 'DJ Pew Original', 'LUKEBIKE', 'Sound Of SuperCherries', 'Friox', 'Ivan Mercy', 'DUTY PAID', 'Universal Balance', 'Mellowmixx', 'comforter2', 'White Tauro', 'Las Mejores Canciones de Navidad 2022', 'Kenny Salvadi Productions', 'Jon Ososki', 'Sutratma', 'Julez', 'Etta James', 'The Neverland Express + Caleb Johnson', 'Tim Visual Sonics', 'Noitatohtori', 'EGE!', 'Ellie Goulding']\n"
     ]
    }
   ],
   "source": [
    "print(artist)"
   ]
  }
 ],
 "metadata": {
  "kernelspec": {
   "display_name": "Python 3 (ipykernel)",
   "language": "python",
   "name": "python3"
  },
  "language_info": {
   "codemirror_mode": {
    "name": "ipython",
    "version": 3
   },
   "file_extension": ".py",
   "mimetype": "text/x-python",
   "name": "python",
   "nbconvert_exporter": "python",
   "pygments_lexer": "ipython3",
   "version": "3.10.13"
  }
 },
 "nbformat": 4,
 "nbformat_minor": 5
}
